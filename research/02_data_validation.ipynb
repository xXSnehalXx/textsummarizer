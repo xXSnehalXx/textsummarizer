{
 "cells": [
  {
   "cell_type": "code",
   "execution_count": 1,
   "metadata": {},
   "outputs": [],
   "source": [
    "import os"
   ]
  },
  {
   "cell_type": "code",
   "execution_count": 2,
   "metadata": {},
   "outputs": [
    {
     "data": {
      "text/plain": [
       "'/Users/snehalmachan/Coding/textsummarizer/research'"
      ]
     },
     "execution_count": 2,
     "metadata": {},
     "output_type": "execute_result"
    }
   ],
   "source": [
    "%pwd"
   ]
  },
  {
   "cell_type": "code",
   "execution_count": 3,
   "metadata": {},
   "outputs": [],
   "source": [
    "os.chdir(\"../\")"
   ]
  },
  {
   "cell_type": "code",
   "execution_count": 5,
   "metadata": {},
   "outputs": [
    {
     "data": {
      "text/plain": [
       "'/Users/snehalmachan/Coding/textsummarizer'"
      ]
     },
     "execution_count": 5,
     "metadata": {},
     "output_type": "execute_result"
    }
   ],
   "source": [
    "%pwd"
   ]
  },
  {
   "cell_type": "code",
   "execution_count": 7,
   "metadata": {},
   "outputs": [],
   "source": [
    "from dataclasses import dataclass\n",
    "from pathlib import Path\n",
    "\n",
    "@dataclass(frozen=True)\n",
    "class DataValidationConfig:\n",
    "    root_dir: Path\n",
    "    STATUS_FILE: str\n",
    "    ALL_REQUIRED_FILES: list\n",
    "\n"
   ]
  },
  {
   "cell_type": "code",
   "execution_count": 9,
   "metadata": {},
   "outputs": [],
   "source": [
    "import textsummarizer.constants.constants as constants\n",
    "from textsummarizer.utils.common import read_yaml, create_directories"
   ]
  },
  {
   "cell_type": "code",
   "execution_count": 19,
   "metadata": {},
   "outputs": [],
   "source": [
    "class ConfigurationManager:\n",
    "    def __init__(\n",
    "            self,\n",
    "            params_file_path: Path= constants.PARAMS_FILE_PATH,\n",
    "            config_file_path: Path= constants.CONFIG_FILE_PATH,):\n",
    "        \n",
    "        self.config= read_yaml(config_file_path)\n",
    "        self.params= read_yaml(params_file_path)\n",
    "\n",
    "        create_directories([self.config.artifacts_root,])\n",
    "\n",
    "    def get_data_validation_config(self) -> DataValidationConfig:\n",
    "        print(\"here1\")\n",
    "        config = self.config.data_validation\n",
    "        print(\"here2\")\n",
    "\n",
    "        create_directories([config.root_dir])\n",
    "\n",
    "        data_validation_config= DataValidationConfig(\n",
    "            root_dir= config.root_dir,\n",
    "            STATUS_FILE= config.STATUS_FILE,\n",
    "            ALL_REQUIRED_FILES= config.ALL_REQUIRED_FILES\n",
    "        )\n",
    "\n",
    "        return data_validation_config"
   ]
  },
  {
   "cell_type": "code",
   "execution_count": 12,
   "metadata": {},
   "outputs": [],
   "source": [
    "import os\n",
    "from textsummarizer.logging import logger"
   ]
  },
  {
   "cell_type": "code",
   "execution_count": 18,
   "metadata": {},
   "outputs": [],
   "source": [
    "class DataValidation:\n",
    "    def __init__(self,config:DataValidationConfig):\n",
    "        self.config= config\n",
    "    ##IN THIS STEP YOU CAN ALSO CHECK FOR DATA TYPE COLUMN VERIFICATION AND STUFF\n",
    "    def validate_all_files_exist(self)-> bool:\n",
    "        try:\n",
    "            validation_status= None\n",
    "            all_files= os.listdir(os.path.join(\"artifacts\",\"data_ingestion\",\"samsum_dataset\"))\n",
    "\n",
    "            for file in all_files:\n",
    "                if file not in self.config.ALL_REQUIRED_FILES:\n",
    "                    validation_status= False\n",
    "                    with open(self.config.STATUS_FILE, \"w\") as f:\n",
    "                        f.write(f\"validation status: {validation_status}\")\n",
    "                else:\n",
    "                    validation_status= True\n",
    "                    with open(self.config.STATUS_FILE, \"w\") as f:\n",
    "                        f.write(f\"validation status: {validation_status}\")\n",
    "\n",
    "            return validation_status\n",
    "            \n",
    "        except Exception as e:\n",
    "            raise e\n",
    "         \n"
   ]
  },
  {
   "cell_type": "code",
   "execution_count": 26,
   "metadata": {},
   "outputs": [
    {
     "name": "stdout",
     "output_type": "stream",
     "text": [
      "[2023-11-27 16:24:21,318: INFO: common: yaml file: config/config.yaml loaded successfully]\n",
      "[2023-11-27 16:24:21,344: INFO: common: yaml file: params.yaml loaded successfully]\n",
      "[2023-11-27 16:24:21,349: INFO: common: created directory at :artifacts]\n"
     ]
    },
    {
     "ename": "BoxKeyError",
     "evalue": "\"'ConfigBox' object has no attribute 'data_validation'\"",
     "output_type": "error",
     "traceback": [
      "\u001b[0;31m---------------------------------------------------------------------------\u001b[0m",
      "\u001b[0;31mKeyError\u001b[0m                                  Traceback (most recent call last)",
      "File \u001b[0;32m~/opt/anaconda3/envs/textS/lib/python3.8/site-packages/box/box.py:503\u001b[0m, in \u001b[0;36mbox.box.Box.__getitem__\u001b[0;34m()\u001b[0m\n",
      "\u001b[0;31mKeyError\u001b[0m: 'data_validation'",
      "\nThe above exception was the direct cause of the following exception:\n",
      "\u001b[0;31mBoxKeyError\u001b[0m                               Traceback (most recent call last)",
      "File \u001b[0;32m~/opt/anaconda3/envs/textS/lib/python3.8/site-packages/box/box.py:536\u001b[0m, in \u001b[0;36mbox.box.Box.__getattr__\u001b[0;34m()\u001b[0m\n",
      "File \u001b[0;32m~/opt/anaconda3/envs/textS/lib/python3.8/site-packages/box/box.py:524\u001b[0m, in \u001b[0;36mbox.box.Box.__getitem__\u001b[0;34m()\u001b[0m\n",
      "\u001b[0;31mBoxKeyError\u001b[0m: \"'data_validation'\"",
      "\nDuring handling of the above exception, another exception occurred:\n",
      "\u001b[0;31mAttributeError\u001b[0m                            Traceback (most recent call last)",
      "File \u001b[0;32m~/opt/anaconda3/envs/textS/lib/python3.8/site-packages/box/box.py:538\u001b[0m, in \u001b[0;36mbox.box.Box.__getattr__\u001b[0;34m()\u001b[0m\n",
      "\u001b[0;31mAttributeError\u001b[0m: 'ConfigBox' object has no attribute 'data_validation'",
      "\nThe above exception was the direct cause of the following exception:\n",
      "\u001b[0;31mBoxKeyError\u001b[0m                               Traceback (most recent call last)",
      "File \u001b[0;32m~/opt/anaconda3/envs/textS/lib/python3.8/site-packages/box/config_box.py:28\u001b[0m, in \u001b[0;36mbox.config_box.ConfigBox.__getattr__\u001b[0;34m()\u001b[0m\n",
      "File \u001b[0;32m~/opt/anaconda3/envs/textS/lib/python3.8/site-packages/box/box.py:552\u001b[0m, in \u001b[0;36mbox.box.Box.__getattr__\u001b[0;34m()\u001b[0m\n",
      "\u001b[0;31mBoxKeyError\u001b[0m: \"'ConfigBox' object has no attribute 'data_validation'\"",
      "\nDuring handling of the above exception, another exception occurred:\n",
      "\u001b[0;31mKeyError\u001b[0m                                  Traceback (most recent call last)",
      "File \u001b[0;32m~/opt/anaconda3/envs/textS/lib/python3.8/site-packages/box/box.py:503\u001b[0m, in \u001b[0;36mbox.box.Box.__getitem__\u001b[0;34m()\u001b[0m\n",
      "\u001b[0;31mKeyError\u001b[0m: 'data_validation'",
      "\nThe above exception was the direct cause of the following exception:\n",
      "\u001b[0;31mBoxKeyError\u001b[0m                               Traceback (most recent call last)",
      "File \u001b[0;32m~/opt/anaconda3/envs/textS/lib/python3.8/site-packages/box/box.py:536\u001b[0m, in \u001b[0;36mbox.box.Box.__getattr__\u001b[0;34m()\u001b[0m\n",
      "File \u001b[0;32m~/opt/anaconda3/envs/textS/lib/python3.8/site-packages/box/box.py:524\u001b[0m, in \u001b[0;36mbox.box.Box.__getitem__\u001b[0;34m()\u001b[0m\n",
      "\u001b[0;31mBoxKeyError\u001b[0m: \"'data_validation'\"",
      "\nDuring handling of the above exception, another exception occurred:\n",
      "\u001b[0;31mAttributeError\u001b[0m                            Traceback (most recent call last)",
      "File \u001b[0;32m~/opt/anaconda3/envs/textS/lib/python3.8/site-packages/box/box.py:538\u001b[0m, in \u001b[0;36mbox.box.Box.__getattr__\u001b[0;34m()\u001b[0m\n",
      "\u001b[0;31mAttributeError\u001b[0m: 'ConfigBox' object has no attribute 'data_validation'",
      "\nThe above exception was the direct cause of the following exception:\n",
      "\u001b[0;31mBoxKeyError\u001b[0m                               Traceback (most recent call last)",
      "\u001b[1;32m/Users/snehalmachan/Coding/textsummarizer/research/02_data_validation.ipynb Cell 10\u001b[0m line \u001b[0;36m7\n\u001b[1;32m      <a href='vscode-notebook-cell:/Users/snehalmachan/Coding/textsummarizer/research/02_data_validation.ipynb#X12sZmlsZQ%3D%3D?line=3'>4</a>\u001b[0m     \u001b[39m# data_validation = DataValidation(config= data_validation_config)\u001b[39;00m\n\u001b[1;32m      <a href='vscode-notebook-cell:/Users/snehalmachan/Coding/textsummarizer/research/02_data_validation.ipynb#X12sZmlsZQ%3D%3D?line=4'>5</a>\u001b[0m     \u001b[39m# data_validation.validate_all_files_exist()\u001b[39;00m\n\u001b[1;32m      <a href='vscode-notebook-cell:/Users/snehalmachan/Coding/textsummarizer/research/02_data_validation.ipynb#X12sZmlsZQ%3D%3D?line=5'>6</a>\u001b[0m \u001b[39mexcept\u001b[39;00m \u001b[39mException\u001b[39;00m \u001b[39mas\u001b[39;00m e:\n\u001b[0;32m----> <a href='vscode-notebook-cell:/Users/snehalmachan/Coding/textsummarizer/research/02_data_validation.ipynb#X12sZmlsZQ%3D%3D?line=6'>7</a>\u001b[0m     \u001b[39mraise\u001b[39;00m e\n",
      "\u001b[1;32m/Users/snehalmachan/Coding/textsummarizer/research/02_data_validation.ipynb Cell 10\u001b[0m line \u001b[0;36m3\n\u001b[1;32m      <a href='vscode-notebook-cell:/Users/snehalmachan/Coding/textsummarizer/research/02_data_validation.ipynb#X12sZmlsZQ%3D%3D?line=0'>1</a>\u001b[0m \u001b[39mtry\u001b[39;00m:\n\u001b[1;32m      <a href='vscode-notebook-cell:/Users/snehalmachan/Coding/textsummarizer/research/02_data_validation.ipynb#X12sZmlsZQ%3D%3D?line=1'>2</a>\u001b[0m     config\u001b[39m=\u001b[39m ConfigurationManager()\n\u001b[0;32m----> <a href='vscode-notebook-cell:/Users/snehalmachan/Coding/textsummarizer/research/02_data_validation.ipynb#X12sZmlsZQ%3D%3D?line=2'>3</a>\u001b[0m     data_validation_config\u001b[39m=\u001b[39m config\u001b[39m.\u001b[39;49mget_data_validation_config()\n\u001b[1;32m      <a href='vscode-notebook-cell:/Users/snehalmachan/Coding/textsummarizer/research/02_data_validation.ipynb#X12sZmlsZQ%3D%3D?line=3'>4</a>\u001b[0m     \u001b[39m# data_validation = DataValidation(config= data_validation_config)\u001b[39;00m\n\u001b[1;32m      <a href='vscode-notebook-cell:/Users/snehalmachan/Coding/textsummarizer/research/02_data_validation.ipynb#X12sZmlsZQ%3D%3D?line=4'>5</a>\u001b[0m     \u001b[39m# data_validation.validate_all_files_exist()\u001b[39;00m\n\u001b[1;32m      <a href='vscode-notebook-cell:/Users/snehalmachan/Coding/textsummarizer/research/02_data_validation.ipynb#X12sZmlsZQ%3D%3D?line=5'>6</a>\u001b[0m \u001b[39mexcept\u001b[39;00m \u001b[39mException\u001b[39;00m \u001b[39mas\u001b[39;00m e:\n",
      "\u001b[1;32m/Users/snehalmachan/Coding/textsummarizer/research/02_data_validation.ipynb Cell 10\u001b[0m line \u001b[0;36m1\n\u001b[1;32m     <a href='vscode-notebook-cell:/Users/snehalmachan/Coding/textsummarizer/research/02_data_validation.ipynb#X12sZmlsZQ%3D%3D?line=11'>12</a>\u001b[0m \u001b[39mdef\u001b[39;00m \u001b[39mget_data_validation_config\u001b[39m(\u001b[39mself\u001b[39m) \u001b[39m-\u001b[39m\u001b[39m>\u001b[39m DataValidationConfig:\n\u001b[0;32m---> <a href='vscode-notebook-cell:/Users/snehalmachan/Coding/textsummarizer/research/02_data_validation.ipynb#X12sZmlsZQ%3D%3D?line=12'>13</a>\u001b[0m     config \u001b[39m=\u001b[39m \u001b[39mself\u001b[39;49m\u001b[39m.\u001b[39;49mconfig\u001b[39m.\u001b[39;49mdata_validation\n\u001b[1;32m     <a href='vscode-notebook-cell:/Users/snehalmachan/Coding/textsummarizer/research/02_data_validation.ipynb#X12sZmlsZQ%3D%3D?line=14'>15</a>\u001b[0m     create_directories([config\u001b[39m.\u001b[39mroot_dir])\n\u001b[1;32m     <a href='vscode-notebook-cell:/Users/snehalmachan/Coding/textsummarizer/research/02_data_validation.ipynb#X12sZmlsZQ%3D%3D?line=16'>17</a>\u001b[0m     data_validation_config\u001b[39m=\u001b[39m DataValidationConfig(\n\u001b[1;32m     <a href='vscode-notebook-cell:/Users/snehalmachan/Coding/textsummarizer/research/02_data_validation.ipynb#X12sZmlsZQ%3D%3D?line=17'>18</a>\u001b[0m         root_dir\u001b[39m=\u001b[39m config\u001b[39m.\u001b[39mroot_dir,\n\u001b[1;32m     <a href='vscode-notebook-cell:/Users/snehalmachan/Coding/textsummarizer/research/02_data_validation.ipynb#X12sZmlsZQ%3D%3D?line=18'>19</a>\u001b[0m         STATUS_FILE\u001b[39m=\u001b[39m config\u001b[39m.\u001b[39mSTATUS_FILE,\n\u001b[1;32m     <a href='vscode-notebook-cell:/Users/snehalmachan/Coding/textsummarizer/research/02_data_validation.ipynb#X12sZmlsZQ%3D%3D?line=19'>20</a>\u001b[0m         ALL_REQUIRED_FILES\u001b[39m=\u001b[39m config\u001b[39m.\u001b[39mALL_REQUIRED_FILES\n\u001b[1;32m     <a href='vscode-notebook-cell:/Users/snehalmachan/Coding/textsummarizer/research/02_data_validation.ipynb#X12sZmlsZQ%3D%3D?line=20'>21</a>\u001b[0m     )\n",
      "File \u001b[0;32m~/opt/anaconda3/envs/textS/lib/python3.8/site-packages/box/config_box.py:30\u001b[0m, in \u001b[0;36mbox.config_box.ConfigBox.__getattr__\u001b[0;34m()\u001b[0m\n",
      "File \u001b[0;32m~/opt/anaconda3/envs/textS/lib/python3.8/site-packages/box/box.py:552\u001b[0m, in \u001b[0;36mbox.box.Box.__getattr__\u001b[0;34m()\u001b[0m\n",
      "\u001b[0;31mBoxKeyError\u001b[0m: \"'ConfigBox' object has no attribute 'data_validation'\""
     ]
    }
   ],
   "source": [
    "try:\n",
    "    config= ConfigurationManager()\n",
    "    data_validation_config= config.get_data_validation_config()\n",
    "    # data_validation = DataValidation(config= data_validation_config)\n",
    "    # data_validation.validate_all_files_exist()\n",
    "except Exception as e:\n",
    "    raise e"
   ]
  },
  {
   "cell_type": "code",
   "execution_count": null,
   "metadata": {},
   "outputs": [],
   "source": []
  }
 ],
 "metadata": {
  "kernelspec": {
   "display_name": "Python 3",
   "language": "python",
   "name": "python3"
  },
  "language_info": {
   "codemirror_mode": {
    "name": "ipython",
    "version": 3
   },
   "file_extension": ".py",
   "mimetype": "text/x-python",
   "name": "python",
   "nbconvert_exporter": "python",
   "pygments_lexer": "ipython3",
   "version": "3.8.18"
  }
 },
 "nbformat": 4,
 "nbformat_minor": 2
}
