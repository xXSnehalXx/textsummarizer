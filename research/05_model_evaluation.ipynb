{
 "cells": [
  {
   "cell_type": "code",
   "execution_count": 2,
   "metadata": {},
   "outputs": [
    {
     "data": {
      "text/plain": [
       "'/Users/snehalmachan/Coding/textsummarizer'"
      ]
     },
     "execution_count": 2,
     "metadata": {},
     "output_type": "execute_result"
    }
   ],
   "source": [
    "import os\n",
    "os.chdir(\"../\")\n",
    "%pwd"
   ]
  },
  {
   "cell_type": "code",
   "execution_count": 5,
   "metadata": {},
   "outputs": [],
   "source": [
    "from dataclasses import dataclass\n",
    "from pathlib import Path\n",
    "\n",
    "@dataclass(frozen= True)\n",
    "class ModelEvaluationConfig:\n",
    "    root_dir: Path\n",
    "    data_path: Path\n",
    "    model_path: Path\n",
    "    tokenizer_path: Path\n",
    "    metric_file_name: Path\n",
    "\n",
    " "
   ]
  },
  {
   "cell_type": "code",
   "execution_count": 14,
   "metadata": {},
   "outputs": [],
   "source": [
    "import textsummarizer.constants.constants as constants\n",
    "from textsummarizer.utils.common import read_yaml, create_directories\n",
    "\n",
    "class ConfigurationManager:\n",
    "    def __init__(\n",
    "            self,\n",
    "            params_file_path: Path= constants.PARAMS_FILE_PATH,\n",
    "            config_file_path: Path= constants.CONFIG_FILE_PATH,):\n",
    "        \n",
    "        self.config= read_yaml(config_file_path)\n",
    "        self.params= read_yaml(params_file_path)\n",
    "\n",
    "        create_directories([self.config.artifacts_root,])\n",
    "\n",
    "    def get_model_evaluation_config(self)-> ModelEvaluationConfig:\n",
    "            config= self.config.model_trainer\n",
    "            params= self.params.TrainingArguments\n",
    "\n",
    "            create_directories([config.root_dir])\n",
    "\n",
    "            model_evaluation_config= ModelEvaluationConfig(\n",
    "                root_dir= config.root_dir,\n",
    "                data_path= config.data_path,\n",
    "                model_path= config.model_path,\n",
    "                tokenizer_path= config.tokenizer_path,\n",
    "                metric_file_name= config.metric_file_name,\n",
    "            )    \n",
    "\n",
    "            return model_evaluation_config"
   ]
  },
  {
   "cell_type": "code",
   "execution_count": 7,
   "metadata": {},
   "outputs": [],
   "source": [
    "from transformers import AutoModelForSeq2SeqLM, AutoTokenizer\n",
    "from datasets import load_dataset, load_from_disk, load_metric\n",
    "import torch\n",
    "import pandas as pd\n",
    "from tqdm import tqdm\n"
   ]
  },
  {
   "cell_type": "code",
   "execution_count": 10,
   "metadata": {},
   "outputs": [],
   "source": [
    "class ModelEvaluation:\n",
    "    def __init__(self,config: ModelEvaluationConfig):\n",
    "        self.config= config\n",
    "    def generate_batch_sized_chunks(self,list_of_elements, batch_size):\n",
    "        \"\"\"\n",
    "        split the dataset into smaller batches that we can process simultaneously\n",
    "        Yield succesive batch_sized chunks from list_of_elements.\n",
    "        \"\"\"\n",
    "        for i in range(0, len(list_of_elements),batch_size):\n",
    "            yield list_of_elements[i: i+ batch_size]\n",
    "\n",
    "    def calculate_metric_on_test_ds(self,dataset, metric, model, tokenizer, batch_size= 16,\n",
    "                                        column_text= \"article\",\n",
    "                                        column_summary=\"hightlights\"):\n",
    "\n",
    "        article_batches= list(self.generate_batch_sized_chunks(dataset[column_text], batch_size))\n",
    "        target_batches= list(self.generate_batch_sized_chunks(dataset[column_summary],batch_size))\n",
    "\n",
    "        for article_batch, target_batch in tqdm(\n",
    "            zip(article_batches, target_batches), total=len(article_batches)):\n",
    "\n",
    "            inputs= tokenizer(article_batch, max_length = 1024, truncation= True,\n",
    "                                padding= \"max_length\", return_tensors = \"pt\")\n",
    "\n",
    "            summaries= model.generate(input_ids=inputs[\"input_ids\"].to(device),\n",
    "            attention_mask= inputs[\"attention_mask\"].to(device),\n",
    "            length_penalty= 0.8, num_beams= 8, max_length= 128)\n",
    "\n",
    "            \"parameter for lengthy penalty ensures that the model does not generate sequencees that are too long\"\n",
    "\n",
    "            #Finally, we decode the generated texts,\n",
    "            #replace the token, and add the decoded texts with the references to the metric.\n",
    "            decoded_summaries= [tokenizer.decode(s, skip_special_tokens= True,\n",
    "                                                clean_up_tokenization_spaces=True)\n",
    "\n",
    "                                                for s in summaries]\n",
    "            decoded_summaries= [d.replace(\"\", \" \") for d in decoded_summaries]\n",
    "\n",
    "            metric.add_batch(predictions=decoded_summaries, references= target_batch)\n",
    "\n",
    "            #finally compute and return the rouge score\n",
    "\n",
    "        score= metric.compute()\n",
    "        return score\n",
    "\n",
    "    def evaluate(self):\n",
    "        device= \"cuda\" if torch.cuda.is_available() else \"cpu\"\n",
    "        tokenizer= AutoTokenizer.from_pretrained(self.config.tokenizer_path)\n",
    "        model_pegasus= AutoModelForSeq2SeqLM.from_pretrained(self.config.model_path).to(device)\n",
    "\n",
    "        #loading data\n",
    "        dataset_samsum_pt= load_from_disk(self.config.data_path)\n",
    "\n",
    "        rouge_names= [\"rouge1\",\"rouge2\",\"rougeL\",\"rougeLsum\"]\n",
    "        rouge_metric = load_metric(\"rouge\")\n",
    "        score= self.calculate_metric_on_test_ds(\n",
    "            dataset_samsum_pt['test'][0:10], rouge_metric, model_pegasus, tokenizer, batch_size = 2, column_text = 'dialogue', column_summary= 'summary'\n",
    "        )\n",
    "\n",
    "        rouge_dict= dict((rn, score[rn].mid.fmeasure) for rn in rouge_names)\n",
    "        df= pd.DataFrame(rouge_dict, index= [f\"pegasus\"])\n",
    "        df.to_csv(self.config.metric_file_name, index= False)"
   ]
  },
  {
   "cell_type": "code",
   "execution_count": 15,
   "metadata": {},
   "outputs": [
    {
     "name": "stdout",
     "output_type": "stream",
     "text": [
      "[2023-11-30 16:32:18,195: INFO: common: yaml file: config/config.yaml loaded successfully]\n",
      "[2023-11-30 16:32:18,205: INFO: common: yaml file: params.yaml loaded successfully]\n",
      "[2023-11-30 16:32:18,230: INFO: common: created directory at :artifacts]\n",
      "[2023-11-30 16:32:18,232: INFO: common: created directory at :artifacts/model_trainer]\n"
     ]
    },
    {
     "ename": "BoxKeyError",
     "evalue": "\"'ConfigBox' object has no attribute 'model_path'\"",
     "output_type": "error",
     "traceback": [
      "\u001b[0;31m---------------------------------------------------------------------------\u001b[0m",
      "\u001b[0;31mKeyError\u001b[0m                                  Traceback (most recent call last)",
      "File \u001b[0;32m~/opt/anaconda3/envs/textS/lib/python3.8/site-packages/box/box.py:503\u001b[0m, in \u001b[0;36mbox.box.Box.__getitem__\u001b[0;34m()\u001b[0m\n",
      "\u001b[0;31mKeyError\u001b[0m: 'model_path'",
      "\nThe above exception was the direct cause of the following exception:\n",
      "\u001b[0;31mBoxKeyError\u001b[0m                               Traceback (most recent call last)",
      "File \u001b[0;32m~/opt/anaconda3/envs/textS/lib/python3.8/site-packages/box/box.py:536\u001b[0m, in \u001b[0;36mbox.box.Box.__getattr__\u001b[0;34m()\u001b[0m\n",
      "File \u001b[0;32m~/opt/anaconda3/envs/textS/lib/python3.8/site-packages/box/box.py:524\u001b[0m, in \u001b[0;36mbox.box.Box.__getitem__\u001b[0;34m()\u001b[0m\n",
      "\u001b[0;31mBoxKeyError\u001b[0m: \"'model_path'\"",
      "\nDuring handling of the above exception, another exception occurred:\n",
      "\u001b[0;31mAttributeError\u001b[0m                            Traceback (most recent call last)",
      "File \u001b[0;32m~/opt/anaconda3/envs/textS/lib/python3.8/site-packages/box/box.py:538\u001b[0m, in \u001b[0;36mbox.box.Box.__getattr__\u001b[0;34m()\u001b[0m\n",
      "\u001b[0;31mAttributeError\u001b[0m: 'ConfigBox' object has no attribute 'model_path'",
      "\nThe above exception was the direct cause of the following exception:\n",
      "\u001b[0;31mBoxKeyError\u001b[0m                               Traceback (most recent call last)",
      "File \u001b[0;32m~/opt/anaconda3/envs/textS/lib/python3.8/site-packages/box/config_box.py:28\u001b[0m, in \u001b[0;36mbox.config_box.ConfigBox.__getattr__\u001b[0;34m()\u001b[0m\n",
      "File \u001b[0;32m~/opt/anaconda3/envs/textS/lib/python3.8/site-packages/box/box.py:552\u001b[0m, in \u001b[0;36mbox.box.Box.__getattr__\u001b[0;34m()\u001b[0m\n",
      "\u001b[0;31mBoxKeyError\u001b[0m: \"'ConfigBox' object has no attribute 'model_path'\"",
      "\nDuring handling of the above exception, another exception occurred:\n",
      "\u001b[0;31mKeyError\u001b[0m                                  Traceback (most recent call last)",
      "File \u001b[0;32m~/opt/anaconda3/envs/textS/lib/python3.8/site-packages/box/box.py:503\u001b[0m, in \u001b[0;36mbox.box.Box.__getitem__\u001b[0;34m()\u001b[0m\n",
      "\u001b[0;31mKeyError\u001b[0m: 'model_path'",
      "\nThe above exception was the direct cause of the following exception:\n",
      "\u001b[0;31mBoxKeyError\u001b[0m                               Traceback (most recent call last)",
      "File \u001b[0;32m~/opt/anaconda3/envs/textS/lib/python3.8/site-packages/box/box.py:536\u001b[0m, in \u001b[0;36mbox.box.Box.__getattr__\u001b[0;34m()\u001b[0m\n",
      "File \u001b[0;32m~/opt/anaconda3/envs/textS/lib/python3.8/site-packages/box/box.py:524\u001b[0m, in \u001b[0;36mbox.box.Box.__getitem__\u001b[0;34m()\u001b[0m\n",
      "\u001b[0;31mBoxKeyError\u001b[0m: \"'model_path'\"",
      "\nDuring handling of the above exception, another exception occurred:\n",
      "\u001b[0;31mAttributeError\u001b[0m                            Traceback (most recent call last)",
      "File \u001b[0;32m~/opt/anaconda3/envs/textS/lib/python3.8/site-packages/box/box.py:538\u001b[0m, in \u001b[0;36mbox.box.Box.__getattr__\u001b[0;34m()\u001b[0m\n",
      "\u001b[0;31mAttributeError\u001b[0m: 'ConfigBox' object has no attribute 'model_path'",
      "\nThe above exception was the direct cause of the following exception:\n",
      "\u001b[0;31mBoxKeyError\u001b[0m                               Traceback (most recent call last)",
      "\u001b[1;32m/Users/snehalmachan/Coding/textsummarizer/research/05_model_evaluation.ipynb Cell 6\u001b[0m line \u001b[0;36m7\n\u001b[1;32m      <a href='vscode-notebook-cell:/Users/snehalmachan/Coding/textsummarizer/research/05_model_evaluation.ipynb#W6sZmlsZQ%3D%3D?line=4'>5</a>\u001b[0m     model_evaluation_cofig\u001b[39m.\u001b[39mevaluate()\n\u001b[1;32m      <a href='vscode-notebook-cell:/Users/snehalmachan/Coding/textsummarizer/research/05_model_evaluation.ipynb#W6sZmlsZQ%3D%3D?line=5'>6</a>\u001b[0m \u001b[39mexcept\u001b[39;00m \u001b[39mException\u001b[39;00m \u001b[39mas\u001b[39;00m e:\n\u001b[0;32m----> <a href='vscode-notebook-cell:/Users/snehalmachan/Coding/textsummarizer/research/05_model_evaluation.ipynb#W6sZmlsZQ%3D%3D?line=6'>7</a>\u001b[0m     \u001b[39mraise\u001b[39;00m e\n",
      "\u001b[1;32m/Users/snehalmachan/Coding/textsummarizer/research/05_model_evaluation.ipynb Cell 6\u001b[0m line \u001b[0;36m3\n\u001b[1;32m      <a href='vscode-notebook-cell:/Users/snehalmachan/Coding/textsummarizer/research/05_model_evaluation.ipynb#W6sZmlsZQ%3D%3D?line=0'>1</a>\u001b[0m \u001b[39mtry\u001b[39;00m:\n\u001b[1;32m      <a href='vscode-notebook-cell:/Users/snehalmachan/Coding/textsummarizer/research/05_model_evaluation.ipynb#W6sZmlsZQ%3D%3D?line=1'>2</a>\u001b[0m     config\u001b[39m=\u001b[39m ConfigurationManager()\n\u001b[0;32m----> <a href='vscode-notebook-cell:/Users/snehalmachan/Coding/textsummarizer/research/05_model_evaluation.ipynb#W6sZmlsZQ%3D%3D?line=2'>3</a>\u001b[0m     model_evaluation_cofig\u001b[39m=\u001b[39m config\u001b[39m.\u001b[39;49mget_model_evaluation_config()\n\u001b[1;32m      <a href='vscode-notebook-cell:/Users/snehalmachan/Coding/textsummarizer/research/05_model_evaluation.ipynb#W6sZmlsZQ%3D%3D?line=3'>4</a>\u001b[0m     model_evaluation_cofig\u001b[39m=\u001b[39m ModelEvaluation(config\u001b[39m=\u001b[39m model_evaluation_cofig)\n\u001b[1;32m      <a href='vscode-notebook-cell:/Users/snehalmachan/Coding/textsummarizer/research/05_model_evaluation.ipynb#W6sZmlsZQ%3D%3D?line=4'>5</a>\u001b[0m     model_evaluation_cofig\u001b[39m.\u001b[39mevaluate()\n",
      "\u001b[1;32m/Users/snehalmachan/Coding/textsummarizer/research/05_model_evaluation.ipynb Cell 6\u001b[0m line \u001b[0;36m2\n\u001b[1;32m     <a href='vscode-notebook-cell:/Users/snehalmachan/Coding/textsummarizer/research/05_model_evaluation.ipynb#W6sZmlsZQ%3D%3D?line=16'>17</a>\u001b[0m params\u001b[39m=\u001b[39m \u001b[39mself\u001b[39m\u001b[39m.\u001b[39mparams\u001b[39m.\u001b[39mTrainingArguments\n\u001b[1;32m     <a href='vscode-notebook-cell:/Users/snehalmachan/Coding/textsummarizer/research/05_model_evaluation.ipynb#W6sZmlsZQ%3D%3D?line=18'>19</a>\u001b[0m create_directories([config\u001b[39m.\u001b[39mroot_dir])\n\u001b[1;32m     <a href='vscode-notebook-cell:/Users/snehalmachan/Coding/textsummarizer/research/05_model_evaluation.ipynb#W6sZmlsZQ%3D%3D?line=20'>21</a>\u001b[0m model_evaluation_config\u001b[39m=\u001b[39m ModelEvaluationConfig(\n\u001b[1;32m     <a href='vscode-notebook-cell:/Users/snehalmachan/Coding/textsummarizer/research/05_model_evaluation.ipynb#W6sZmlsZQ%3D%3D?line=21'>22</a>\u001b[0m     root_dir\u001b[39m=\u001b[39m config\u001b[39m.\u001b[39mroot_dir,\n\u001b[1;32m     <a href='vscode-notebook-cell:/Users/snehalmachan/Coding/textsummarizer/research/05_model_evaluation.ipynb#W6sZmlsZQ%3D%3D?line=22'>23</a>\u001b[0m     data_path\u001b[39m=\u001b[39m config\u001b[39m.\u001b[39mdata_path,\n\u001b[0;32m---> <a href='vscode-notebook-cell:/Users/snehalmachan/Coding/textsummarizer/research/05_model_evaluation.ipynb#W6sZmlsZQ%3D%3D?line=23'>24</a>\u001b[0m     model_path\u001b[39m=\u001b[39m config\u001b[39m.\u001b[39;49mmodel_path,\n\u001b[1;32m     <a href='vscode-notebook-cell:/Users/snehalmachan/Coding/textsummarizer/research/05_model_evaluation.ipynb#W6sZmlsZQ%3D%3D?line=24'>25</a>\u001b[0m     tokenizer_path\u001b[39m=\u001b[39m config\u001b[39m.\u001b[39mtokenizer_path,\n\u001b[1;32m     <a href='vscode-notebook-cell:/Users/snehalmachan/Coding/textsummarizer/research/05_model_evaluation.ipynb#W6sZmlsZQ%3D%3D?line=25'>26</a>\u001b[0m     metric_file_name\u001b[39m=\u001b[39m config\u001b[39m.\u001b[39mmetric_file_name,\n\u001b[1;32m     <a href='vscode-notebook-cell:/Users/snehalmachan/Coding/textsummarizer/research/05_model_evaluation.ipynb#W6sZmlsZQ%3D%3D?line=26'>27</a>\u001b[0m )    \n\u001b[1;32m     <a href='vscode-notebook-cell:/Users/snehalmachan/Coding/textsummarizer/research/05_model_evaluation.ipynb#W6sZmlsZQ%3D%3D?line=28'>29</a>\u001b[0m \u001b[39mreturn\u001b[39;00m model_evaluation_config\n",
      "File \u001b[0;32m~/opt/anaconda3/envs/textS/lib/python3.8/site-packages/box/config_box.py:30\u001b[0m, in \u001b[0;36mbox.config_box.ConfigBox.__getattr__\u001b[0;34m()\u001b[0m\n",
      "File \u001b[0;32m~/opt/anaconda3/envs/textS/lib/python3.8/site-packages/box/box.py:552\u001b[0m, in \u001b[0;36mbox.box.Box.__getattr__\u001b[0;34m()\u001b[0m\n",
      "\u001b[0;31mBoxKeyError\u001b[0m: \"'ConfigBox' object has no attribute 'model_path'\""
     ]
    }
   ],
   "source": [
    "try:\n",
    "    config= ConfigurationManager()\n",
    "    model_evaluation_cofig= config.get_model_evaluation_config()\n",
    "    model_evaluation_cofig= ModelEvaluation(config= model_evaluation_cofig)\n",
    "    model_evaluation_cofig.evaluate()\n",
    "except Exception as e:\n",
    "    raise e\n"
   ]
  },
  {
   "cell_type": "code",
   "execution_count": null,
   "metadata": {},
   "outputs": [],
   "source": []
  }
 ],
 "metadata": {
  "kernelspec": {
   "display_name": "textS",
   "language": "python",
   "name": "python3"
  },
  "language_info": {
   "codemirror_mode": {
    "name": "ipython",
    "version": 3
   },
   "file_extension": ".py",
   "mimetype": "text/x-python",
   "name": "python",
   "nbconvert_exporter": "python",
   "pygments_lexer": "ipython3",
   "version": "3.8.18"
  }
 },
 "nbformat": 4,
 "nbformat_minor": 2
}
